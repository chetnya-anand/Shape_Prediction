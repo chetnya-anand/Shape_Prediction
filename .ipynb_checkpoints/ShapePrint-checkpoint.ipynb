{
 "cells": [
  {
   "cell_type": "code",
   "execution_count": null,
   "metadata": {},
   "outputs": [],
   "source": [
    "from TestTrainAndModel import model"
   ]
  },
  {
   "cell_type": "code",
   "execution_count": null,
   "metadata": {},
   "outputs": [],
   "source": [
    "def create_image (size, shape):\n",
    "    from random import randint\n",
    "    import numpy as np\n",
    "    from PIL import Image, ImageDraw\n",
    "    \n",
    "    xy1 = randint(10,40)\n",
    "    xy2 = randint(60,100)\n",
    "    col = (randint(0,200), randint(0,200), randint(0,200))\n",
    "\n",
    "    img = Image.new(\"RGB\", size, (255, 255, 255))\n",
    "    draw = ImageDraw.Draw(img)\n",
    "    \n",
    "    if shape == 'circle':\n",
    "        draw.ellipse([(xy1,xy1), (xy2,xy2)], fill=col)\n",
    "    elif shape == 'triangle':\n",
    "        draw.polygon([(xy1,xy1), (xy2,xy2), (xy2,xy1)], fill=col)\n",
    "    else: # square\n",
    "        draw.rectangle([(xy1,xy1), (xy2,xy2)], fill=col)\n",
    "    del draw\n",
    "    \n",
    "    return np.array(img)"
   ]
  },
  {
   "cell_type": "code",
   "execution_count": null,
   "metadata": {},
   "outputs": [],
   "source": [
    "from PIL import Image, ImageOps\n",
    "import numpy as np\n",
    "import matplotlib.pyplot as plt\n",
    "%matplotlib inline\n",
    "classnames = ['circle', 'square', 'triangle']\n",
    "\n",
    " \n",
    "shape_input  = input('Enter the Figure Name\\n')\n",
    "# Create a random test image\n",
    "img = create_image ((128,128), shape_input)\n",
    "\n",
    "# The model expects a batch of images as input, so we'll create an array of 1 image\n",
    "imgfeatures = img.reshape(1, img.shape[0], img.shape[1], img.shape[2])\n",
    "\n",
    "# We need to format the input to match the training data\n",
    "# The generator loaded the values as floating point numbers\n",
    "# and normalized the pixel values, so...\n",
    "imgfeatures = imgfeatures.astype('float32')\n",
    "imgfeatures /= 255\n",
    "\n",
    "# Use the classifier to predict the class\n",
    "class_probabilities = model.predict(imgfeatures)\n",
    "# Find the class predictions with the highest predicted probability\n",
    "class_idx = np.argmax(class_probabilities, axis=1)\n",
    "plt.imshow (create_image((128,128),(classnames[int(class_idx[0])])))\n",
    "plt.show()"
   ]
  },
  {
   "cell_type": "code",
   "execution_count": null,
   "metadata": {},
   "outputs": [],
   "source": []
  }
 ],
 "metadata": {
  "kernelspec": {
   "display_name": "Python 3",
   "language": "python",
   "name": "python3"
  },
  "language_info": {
   "codemirror_mode": {
    "name": "ipython",
    "version": 3
   },
   "file_extension": ".py",
   "mimetype": "text/x-python",
   "name": "python",
   "nbconvert_exporter": "python",
   "pygments_lexer": "ipython3",
   "version": "3.5.6"
  }
 },
 "nbformat": 4,
 "nbformat_minor": 2
}
