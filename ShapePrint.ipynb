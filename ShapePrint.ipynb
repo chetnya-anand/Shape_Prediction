{
 "cells": [
  {
   "cell_type": "code",
   "execution_count": 53,
   "metadata": {},
   "outputs": [],
   "source": [
    "from TestTrainAndModel import model"
   ]
  },
  {
   "cell_type": "code",
   "execution_count": null,
   "metadata": {
    "scrolled": true
   },
   "outputs": [],
   "source": []
  },
  {
   "cell_type": "code",
   "execution_count": 57,
   "metadata": {},
   "outputs": [
    {
     "name": "stdout",
     "output_type": "stream",
     "text": [
      "Enter the path of image\n",
      "C:\\Users\\anand\\Desktop\\sq_test.png\n",
      "[0]\n",
      "circle\n"
     ]
    }
   ],
   "source": [
    "from PIL import Image, ImageOps\n",
    "import numpy as np\n",
    "import matplotlib.pyplot as plt\n",
    "from skimage import img_as_ubyte\n",
    "from scipy import misc\n",
    "import cv2\n",
    "%matplotlib inline\n",
    "classnames = ['circle', 'square', 'triangle']\n",
    "\n",
    " \n",
    "path  = input('Enter the path of image\\n')\n",
    "\n",
    "\n",
    "\n",
    "img = cv2.imread(path)\n",
    "img = cv2.resize(img,(128,128),interpolation = cv2.INTER_AREA)\n",
    "\n",
    "imgfeatures = img.reshape(1, img.shape[0], img.shape[1],img.shape[2])\n",
    "\n",
    "class_probabilities = model.predict(imgfeatures)\n",
    "\n",
    "class_idx = np.argmax(class_probabilities, axis=1)\n",
    "print(class_idx)\n",
    "print(classnames[int(class_idx[0])])\n"
   ]
  },
  {
   "cell_type": "code",
   "execution_count": 44,
   "metadata": {},
   "outputs": [],
   "source": []
  },
  {
   "cell_type": "code",
   "execution_count": 23,
   "metadata": {},
   "outputs": [],
   "source": []
  },
  {
   "cell_type": "code",
   "execution_count": null,
   "metadata": {},
   "outputs": [],
   "source": []
  }
 ],
 "metadata": {
  "kernelspec": {
   "display_name": "Python 3",
   "language": "python",
   "name": "python3"
  },
  "language_info": {
   "codemirror_mode": {
    "name": "ipython",
    "version": 3
   },
   "file_extension": ".py",
   "mimetype": "text/x-python",
   "name": "python",
   "nbconvert_exporter": "python",
   "pygments_lexer": "ipython3",
   "version": "3.5.6"
  }
 },
 "nbformat": 4,
 "nbformat_minor": 2
}
